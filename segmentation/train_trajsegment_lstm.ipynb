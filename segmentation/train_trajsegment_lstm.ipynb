{
 "cells": [
  {
   "cell_type": "code",
   "execution_count": 1,
   "source": [
    "import os\r\n",
    "import sys\r\n",
    "import copy\r\n",
    "from collections import defaultdict\r\n",
    "from tqdm.notebook import tqdm\r\n",
    "import time\r\n",
    "import random\r\n",
    "import numpy as np\r\n",
    "import matplotlib.pyplot as plt\r\n",
    "from sklearn.model_selection import train_test_split\r\n",
    "\r\n",
    "import torch\r\n",
    "import torch.nn as nn\r\n",
    "import torch.nn.functional as F\r\n",
    "from torch.utils.data import dataloader\r\n",
    "from torch.nn.utils.rnn import pad_sequence, pad_packed_sequence, pack_padded_sequence\r\n",
    "\r\n",
    "sys.path.insert(0, os.path.dirname(os.path.abspath(\"\")))\r\n",
    "from utils.data_utils import data_utils\r\n",
    "from utils.fetch_features import *\r\n",
    "from utils.torch_utils import torch_utils\r\n",
    "\r\n",
    "random.seed(35)\r\n",
    "plt.style.use(\"seaborn\")\r\n",
    "%matplotlib inline\r\n",
    "\r\n",
    "print(\"torch.version:  \", torch.__version__)\r\n",
    "device = torch.device(\"cuda:0\" if torch.cuda.is_available() else \"cpu\")\r\n",
    "print(\"current_device: \", device)\r\n",
    "\r\n",
    "if torch.cuda.is_available():\r\n",
    "    print(\"device_name:    \", torch.cuda.get_device_name(device))\r\n",
    "    #     print(\"device_count:   \", torch.cuda.device_count())\r\n",
    "    #     print(\"current_device: \", torch.cuda.current_device())\r\n",
    "    torch.cuda.empty_cache()"
   ],
   "outputs": [
    {
     "output_type": "stream",
     "name": "stdout",
     "text": [
      "torch.version:   1.8.0+cu111\n",
      "current_device:  cuda:0\n",
      "device_name:     GeForce RTX 3090\n"
     ]
    }
   ],
   "metadata": {
    "ExecuteTime": {
     "end_time": "2021-02-23T02:00:57.331809Z",
     "start_time": "2021-02-23T02:00:55.702960Z"
    },
    "execution": {
     "iopub.execute_input": "2021-08-24T02:09:38.310279Z",
     "iopub.status.busy": "2021-08-24T02:09:38.309929Z",
     "iopub.status.idle": "2021-08-24T02:09:39.349411Z",
     "shell.execute_reply": "2021-08-24T02:09:39.349050Z",
     "shell.execute_reply.started": "2021-08-24T02:09:38.310203Z"
    },
    "tags": []
   }
  },
  {
   "cell_type": "markdown",
   "source": [
    "# data read"
   ],
   "metadata": {}
  },
  {
   "cell_type": "code",
   "execution_count": 2,
   "source": [
    "# -----------------------------\r\n",
    "# read free explore motion primitive data\r\n",
    "# -----------------------------\r\n",
    "\r\n",
    "file_path = os.path.join(os.path.dirname(os.getcwd()), \"archive\", \"processed\", \"cap_59d.pickle\")\r\n",
    "cap_dict = data_utils.read_from_pickle(file_path)\r\n",
    "\r\n",
    "DATA_FEATURE_NUM = len(cap_dict[list(cap_dict.keys())[0]][0][0])\r\n",
    "print(\"DATA_FEATURE_NUM: \", DATA_FEATURE_NUM)"
   ],
   "outputs": [],
   "metadata": {
    "execution": {
     "iopub.execute_input": "2021-08-24T02:09:43.935438Z",
     "iopub.status.busy": "2021-08-24T02:09:43.935119Z"
    },
    "tags": []
   }
  },
  {
   "cell_type": "code",
   "execution_count": null,
   "source": [
    "# -----------------------------\r\n",
    "# read segmented trajectory data\r\n",
    "# -----------------------------\r\n",
    "\r\n",
    "data_path = os.path.join(os.path.dirname(os.getcwd()), \"archive\", \"processed\", \"traj_stationary_59d.pickle\")\r\n",
    "traj_list = data_utils.read_from_pickle(data_path)\r\n",
    "\r\n",
    "DATA_FEATURE_NUM = len(traj_list[0][list(traj_list[0].keys())[0]][0])\r\n",
    "print(\"DATA_FEATURE_NUM: \", DATA_FEATURE_NUM)"
   ],
   "outputs": [],
   "metadata": {
    "ExecuteTime": {
     "end_time": "2021-02-23T02:01:55.123326Z",
     "start_time": "2021-02-23T02:01:27.006234Z"
    },
    "tags": []
   }
  },
  {
   "cell_type": "markdown",
   "source": [
    "# Generate train_loader, test_loader"
   ],
   "metadata": {}
  },
  {
   "cell_type": "code",
   "execution_count": null,
   "source": [
    "# generate train_data & train_label\r\n",
    "\r\n",
    "\r\n",
    "def z_score_normalization(x, mean, std):\r\n",
    "    return (x - mean) / (std + 1e-5)\r\n",
    "\r\n",
    "\r\n",
    "def get_minibatch_mean_and_std(data_dict):\r\n",
    "    mean = 0\r\n",
    "    std = 0\r\n",
    "    sample_num = 10\r\n",
    "    for i in range(sample_num):\r\n",
    "        temp_means = []\r\n",
    "        temp_stds = []\r\n",
    "        for k in data_dict:\r\n",
    "            sample_index = np.random.randint(0, len(data_dict[k]), int(0.6 * len(data_dict[k])))\r\n",
    "            for index in sample_index:\r\n",
    "                index_k_mean = np.mean(np.array(data_dict[k][index]), axis=0)\r\n",
    "                index_k_std = np.std(np.array(data_dict[k][index]), axis=0)\r\n",
    "                temp_means.append(index_k_mean)\r\n",
    "                temp_stds.append(index_k_std)\r\n",
    "\r\n",
    "        mean = mean + np.mean(np.array(temp_means), axis=0)\r\n",
    "        #         print('mean: ', np.mean(np.array(temp_means), axis=0))\r\n",
    "        std = std + np.mean(np.array(temp_stds), axis=0)\r\n",
    "\r\n",
    "    return (mean / sample_num, std / sample_num)\r\n",
    "\r\n",
    "\r\n",
    "def generate_train_set(data_dict, clip_length, step, capabilites=FETCH_CAPABILITY_INDEX):\r\n",
    "    #     clip_data_dict = data_dict\r\n",
    "    clip_data_dict = defaultdict(list)\r\n",
    "    for k in data_dict:\r\n",
    "        clip_data_dict.setdefault(k, [])\r\n",
    "        for file_index in range(len(data_dict[k])):\r\n",
    "            data_index = 0\r\n",
    "            while data_index < len(data_dict[k][file_index]):\r\n",
    "                data_length = clip_length\r\n",
    "                if data_index + data_length > len(data_dict[k][file_index]):\r\n",
    "                    #                     clip_data_dict[k].append(data_dict[k][file_index][data_index:])\r\n",
    "                    break\r\n",
    "                clip_data_dict[k].append(data_dict[k][file_index][data_index : data_index + data_length])\r\n",
    "                data_index = data_index + step\r\n",
    "\r\n",
    "    z_score_mean, z_score_std = get_minibatch_mean_and_std(data_dict)\r\n",
    "\r\n",
    "    train_data = []\r\n",
    "    train_label = []\r\n",
    "\r\n",
    "    for k in clip_data_dict:\r\n",
    "        for file_data in clip_data_dict[k]:\r\n",
    "            train_data.append(z_score_normalization(np.array(file_data).astype(float), z_score_mean, z_score_std))\r\n",
    "            #                 train_data.append(np.array(file_data).astype(float))\r\n",
    "            train_label.append(capabilites[k])\r\n",
    "\r\n",
    "    return train_data, train_label, z_score_mean, z_score_std\r\n",
    "\r\n",
    "\r\n",
    "class Collate_FCN:\r\n",
    "    def __init__(self):\r\n",
    "        pass\r\n",
    "\r\n",
    "    def _collate(self, batch):\r\n",
    "\r\n",
    "        xs_list = [torch.FloatTensor(v[0]).t() for v in batch]\r\n",
    "        xs = torch.FloatTensor()\r\n",
    "        for index, data in enumerate(xs_list):\r\n",
    "            if index == 0:\r\n",
    "                xs = data\r\n",
    "            else:\r\n",
    "                xs = torch.cat((xs, data), dim=0)\r\n",
    "\r\n",
    "        ys = torch.LongTensor([v[1] for v in batch])\r\n",
    "        return xs, ys\r\n",
    "\r\n",
    "    def __call__(self, batch):\r\n",
    "        return self._collate(batch)\r\n",
    "\r\n",
    "\r\n",
    "class Collate_RNN:\r\n",
    "    \"\"\"\r\n",
    "    a variant of callate_fn that pads according to the longest sequence in\r\n",
    "    a batch of sequences\r\n",
    "    \"\"\"\r\n",
    "\r\n",
    "    def __init__(self):\r\n",
    "        pass\r\n",
    "\r\n",
    "    def _collate(self, batch):\r\n",
    "        \"\"\"\r\n",
    "        args:\r\n",
    "            batch - list of (tensor, label)\r\n",
    "\r\n",
    "        reutrn:\r\n",
    "            xs - a tensor of all examples in 'batch' before padding like:\r\n",
    "                '''\r\n",
    "                [tensor([1,2,3,4]),\r\n",
    "                 tensor([1,2]),\r\n",
    "                 tensor([1,2,3,4,5])]\r\n",
    "                '''\r\n",
    "            ys - a LongTensor of all labels in batch like:\r\n",
    "                '''\r\n",
    "                [1,0,1]\r\n",
    "                '''\r\n",
    "        \"\"\"\r\n",
    "\r\n",
    "        xs = [torch.FloatTensor(v[0]).to(device) for v in batch]\r\n",
    "        ys = torch.LongTensor([v[1] for v in batch])\r\n",
    "        # 获得每个样本的序列长度\r\n",
    "        seq_lengths = torch.LongTensor([v for v in map(len, xs)])\r\n",
    "        max_len = max([len(v) for v in xs])\r\n",
    "        # 每个样本都padding到当前batch的最大长度\r\n",
    "        xs = pad_sequence(xs, batch_first=True, padding_value=0)\r\n",
    "        # 把xs和ys按照序列长度从大到小排序\r\n",
    "        seq_lengths, perm_idx = seq_lengths.sort(0, descending=True)\r\n",
    "        xs = xs[perm_idx]\r\n",
    "        ys = ys[perm_idx]\r\n",
    "        return xs, seq_lengths, ys\r\n",
    "\r\n",
    "    #         xs_list = [torch.FloatTensor(v[0]).t() for v in batch]\r\n",
    "    #         xs = torch.FloatTensor()\r\n",
    "    #         for index, data in enumerate(xs_list):\r\n",
    "    #             if index == 0:\r\n",
    "    #                 xs = data\r\n",
    "    #             else:\r\n",
    "    #                 xs = torch.cat((xs, data), dim=0)\r\n",
    "\r\n",
    "    #         ys = torch.LongTensor([v[1] for v in batch])\r\n",
    "    #         return xs, ys\r\n",
    "\r\n",
    "    def __call__(self, batch):\r\n",
    "        return self._collate(batch)\r\n",
    "\r\n",
    "\r\n",
    "def train_preprocessing(data_set, test_size, train_batch_size, test_batch_size, clip_length, step, collate_fn):\r\n",
    "\r\n",
    "    print(\"Generate train set\")\r\n",
    "    train_data, train_label, z_score_mean, z_score_std = generate_train_set(data_set, clip_length, step)\r\n",
    "\r\n",
    "    print(\"train_test_split\")\r\n",
    "    x_train, x_test, y_train, y_test = train_test_split(train_data, train_label, random_state=0, test_size=test_size)\r\n",
    "\r\n",
    "    print(\"Generating train_loader & test_loader\")\r\n",
    "\r\n",
    "    train_loader = dataloader.DataLoader(\r\n",
    "        dataset=list(zip(x_train, y_train)), batch_size=train_batch_size, num_workers=0, shuffle=True, collate_fn=collate_fn()\r\n",
    "    )\r\n",
    "\r\n",
    "    test_loader = dataloader.DataLoader(\r\n",
    "        dataset=list(zip(x_test, y_test)), batch_size=test_batch_size, num_workers=0, shuffle=True, collate_fn=collate_fn()\r\n",
    "    )\r\n",
    "\r\n",
    "    return train_loader, test_loader, z_score_mean, z_score_std"
   ],
   "outputs": [],
   "metadata": {
    "ExecuteTime": {
     "end_time": "2021-02-23T02:02:37.401512Z",
     "start_time": "2021-02-23T02:02:37.383871Z"
    },
    "tags": []
   }
  },
  {
   "cell_type": "code",
   "execution_count": null,
   "source": [
    "BATCH_SIZE = 256\r\n",
    "CLIP_LEN = 200\r\n",
    "\r\n",
    "# training and testing\r\n",
    "train_loader, test_loader, z_score_mean, z_score_std = train_preprocessing(\r\n",
    "    cap_dict,\r\n",
    "    test_size=0.3,\r\n",
    "    train_batch_size=BATCH_SIZE,\r\n",
    "    test_batch_size=BATCH_SIZE,\r\n",
    "    clip_length=CLIP_LEN,\r\n",
    "    step=40,\r\n",
    "    collate_fn=Collate_RNN,\r\n",
    ")\r\n",
    "\r\n",
    "np.save(\"segment_lstm_mean.npy\", z_score_mean)\r\n",
    "np.save(\"segment_lstm_std.npy\", z_score_std)"
   ],
   "outputs": [],
   "metadata": {
    "tags": []
   }
  },
  {
   "cell_type": "code",
   "execution_count": null,
   "source": [
    "print(len(train_loader.dataset))\r\n",
    "print(len(test_loader.dataset))"
   ],
   "outputs": [],
   "metadata": {
    "tags": []
   }
  },
  {
   "cell_type": "markdown",
   "source": [
    "# RNN Model"
   ],
   "metadata": {}
  },
  {
   "cell_type": "code",
   "execution_count": 15,
   "source": [
    "class RNN(nn.Module):\r\n",
    "    def __init__(self, n_features):\r\n",
    "        super(RNN, self).__init__()\r\n",
    "\r\n",
    "        self.rnn = nn.LSTM(\r\n",
    "            input_size=n_features,\r\n",
    "            hidden_size=128,\r\n",
    "            num_layers=2,\r\n",
    "            batch_first=True,\r\n",
    "            bidirectional=True,\r\n",
    "        )\r\n",
    "\r\n",
    "        self.hidden1 = torch.nn.Linear(256, 128)\r\n",
    "        self.bn1 = nn.BatchNorm1d(128)\r\n",
    "        self.hidden2 = torch.nn.Linear(128, 64)\r\n",
    "        self.bn2 = nn.BatchNorm1d(64)\r\n",
    "        #         self.hidden3 = torch.nn.Linear(64, 128)\r\n",
    "        #         self.bn3 = nn.BatchNorm1d(128)\r\n",
    "\r\n",
    "        self.dropout = nn.Dropout(p=0.5)\r\n",
    "\r\n",
    "        self.out = nn.Linear(64, 4)  # 输出层\r\n",
    "\r\n",
    "        # 初始化层\r\n",
    "        nn.init.xavier_normal_(self.rnn.all_weights[0][0])\r\n",
    "        nn.init.xavier_normal_(self.rnn.all_weights[0][1])\r\n",
    "        nn.init.xavier_normal_(self.out.weight)\r\n",
    "        nn.init.constant_(self.out.bias, 0.1)\r\n",
    "        nn.init.xavier_normal_(self.hidden1.weight)\r\n",
    "        nn.init.constant_(self.hidden1.bias, 0.1)\r\n",
    "        nn.init.xavier_normal_(self.hidden2.weight)\r\n",
    "        nn.init.constant_(self.hidden2.bias, 0.1)\r\n",
    "\r\n",
    "    #         nn.init.xavier_normal_(self.hidden3.weight)\r\n",
    "    #         nn.init.constant_(self.hidden3.bias, 0.1)\r\n",
    "\r\n",
    "    def forward(self, x):\r\n",
    "        r_out, (h_n, h_c) = self.rnn(x, None)\r\n",
    "        #         unpacked_out, unpacked_len = pad_packed_sequence(r_out,\r\n",
    "        #                                                          batch_first=True)\r\n",
    "        #         print(h_n[-1].size())\r\n",
    "        #         print(h_n[-2].size())\r\n",
    "        out = torch.cat((h_n[-1], h_n[-2]), dim=1)\r\n",
    "        #                         torch.flatten(r_out[:, 0:30, :], start_dim=1)),\r\n",
    "        #         print(out.size())\r\n",
    "        out = F.relu(self.bn1(self.hidden1(out)))\r\n",
    "        out = F.relu(self.bn2(self.hidden2(out)))\r\n",
    "        #         out = F.relu(self.bn3(self.hidden3(out)))\r\n",
    "        out = F.relu(self.dropout(out))\r\n",
    "        out = self.out(out)\r\n",
    "\r\n",
    "        return out\r\n",
    "\r\n",
    "\r\n",
    "rnn = RNN(DATA_FEATURE_NUM)\r\n",
    "rnn.to(device)\r\n",
    "print(rnn)"
   ],
   "outputs": [
    {
     "output_type": "stream",
     "name": "stdout",
     "text": [
      "RNN(\n",
      "  (rnn): LSTM(59, 128, num_layers=2, batch_first=True, bidirectional=True)\n",
      "  (hidden1): Linear(in_features=256, out_features=128, bias=True)\n",
      "  (bn1): BatchNorm1d(128, eps=1e-05, momentum=0.1, affine=True, track_running_stats=True)\n",
      "  (hidden2): Linear(in_features=128, out_features=64, bias=True)\n",
      "  (bn2): BatchNorm1d(64, eps=1e-05, momentum=0.1, affine=True, track_running_stats=True)\n",
      "  (dropout): Dropout(p=0.5, inplace=False)\n",
      "  (out): Linear(in_features=64, out_features=4, bias=True)\n",
      ")\n"
     ]
    }
   ],
   "metadata": {
    "ExecuteTime": {
     "end_time": "2021-02-23T02:07:12.255667Z",
     "start_time": "2021-02-23T02:07:12.218749Z"
    },
    "execution": {
     "iopub.execute_input": "2021-07-01T06:51:16.466322Z",
     "iopub.status.busy": "2021-07-01T06:51:16.466006Z",
     "iopub.status.idle": "2021-07-01T06:51:16.490652Z",
     "shell.execute_reply": "2021-07-01T06:51:16.490288Z",
     "shell.execute_reply.started": "2021-07-01T06:51:16.466298Z"
    },
    "tags": []
   }
  },
  {
   "cell_type": "markdown",
   "source": [
    "# RNN Trainer"
   ],
   "metadata": {}
  },
  {
   "cell_type": "code",
   "execution_count": 16,
   "source": [
    "def train_rnn(model):\r\n",
    "\r\n",
    "    train_losses = []\r\n",
    "    test_losses = []\r\n",
    "    avg_train_losses = []\r\n",
    "    avg_test_losses = []\r\n",
    "    test_accuracy = []\r\n",
    "    avg_test_accuracy = []\r\n",
    "\r\n",
    "    LR = 0.0003\r\n",
    "    EPOCH = 200\r\n",
    "    optimizer = torch.optim.Adam(model.parameters(), lr=LR, weight_decay=0.01)\r\n",
    "    loss_func = nn.CrossEntropyLoss()\r\n",
    "    _lambda = lambda epoch: 0.999 ** epoch\r\n",
    "    scheduler = torch.optim.lr_scheduler.LambdaLR(optimizer, lr_lambda=_lambda)\r\n",
    "\r\n",
    "    print(\"Start Training RNN ...\")\r\n",
    "\r\n",
    "    for epoch in range(EPOCH):\r\n",
    "\r\n",
    "        for step, (train_x, lengths, train_y) in enumerate(train_loader):\r\n",
    "            train_x = train_x.to(device)\r\n",
    "            train_y = train_y.to(device)\r\n",
    "            model.train()\r\n",
    "            train_x = pack_padded_sequence(train_x, lengths, batch_first=True)\r\n",
    "            output = model(train_x)\r\n",
    "            loss = loss_func(output, train_y)\r\n",
    "            optimizer.zero_grad()\r\n",
    "            loss.backward()\r\n",
    "            optimizer.step()\r\n",
    "            scheduler.step()\r\n",
    "\r\n",
    "            if step % 50 == 0:\r\n",
    "\r\n",
    "                if torch.cuda.is_available():\r\n",
    "                    train_losses.append(loss.data.cpu().numpy())\r\n",
    "                else:\r\n",
    "                    train_losses.append(loss.data.numpy())\r\n",
    "\r\n",
    "                i = 0\r\n",
    "                total_size = 0\r\n",
    "\r\n",
    "                with torch.no_grad():\r\n",
    "                    for _, (test_x, lengths, test_y) in enumerate(test_loader):\r\n",
    "                        test_x = test_x.to(device)\r\n",
    "                        test_y = test_y.to(device)\r\n",
    "                        model.eval()\r\n",
    "                        test_x = pack_padded_sequence(test_x, lengths, batch_first=True)\r\n",
    "                        test_output = model(test_x)\r\n",
    "                        loss = loss_func(test_output, test_y)\r\n",
    "                        pred_y = torch.max(test_output, 1)[1].data.cpu().numpy()\r\n",
    "\r\n",
    "                        for res in test_y.cpu().numpy() == pred_y:\r\n",
    "                            if res:\r\n",
    "                                i = i + 1\r\n",
    "                        total_size = total_size + test_output.size()[0]\r\n",
    "\r\n",
    "                    accuracy = i / total_size\r\n",
    "                    test_accuracy.append(accuracy)\r\n",
    "\r\n",
    "                    if torch.cuda.is_available():\r\n",
    "                        test_losses.append(loss.data.cpu().numpy())\r\n",
    "                    else:\r\n",
    "                        test_losses.append(loss.data.numpy())\r\n",
    "\r\n",
    "        avg_train_loss = np.average(train_losses)\r\n",
    "        avg_test_loss = np.average(test_losses)\r\n",
    "        avg_train_losses.append(avg_train_loss)\r\n",
    "        avg_test_losses.append(avg_test_loss)\r\n",
    "        avg_accuracy = np.average(test_accuracy)\r\n",
    "        avg_test_accuracy.append(avg_accuracy)\r\n",
    "\r\n",
    "        print_msg = \"Epoch: {}/{} | train loss: {:.4f} | test loss: {:.4f} | test accuracy: {:.4f}\".format(\r\n",
    "            epoch + 1,\r\n",
    "            EPOCH,\r\n",
    "            avg_train_loss,\r\n",
    "            avg_test_loss,\r\n",
    "            avg_accuracy,\r\n",
    "        )\r\n",
    "\r\n",
    "        print(print_msg)\r\n",
    "\r\n",
    "        if torch_utils.early_stop(model=model, test_accuracy=avg_test_accuracy):\r\n",
    "            print(\"Early Stopping\")\r\n",
    "            break\r\n",
    "\r\n",
    "        train_losses = []\r\n",
    "        test_losses = []\r\n",
    "        test_accuracy = []\r\n",
    "\r\n",
    "    print(\"Training Finish\")\r\n",
    "    model.load_state_dict(torch.load(\"checkpoint.pt\"))\r\n",
    "    return model, avg_train_losses, avg_test_losses\r\n",
    "\r\n",
    "\r\n",
    "model, avg_train_losses, avg_test_losses = train_rnn(rnn)"
   ],
   "outputs": [
    {
     "output_type": "stream",
     "name": "stdout",
     "text": [
      "Start Training RNN ...\n",
      "Epoch: 1/200 | train loss: 0.2711 | test loss: 0.1730 | test accuracy: 0.9284\n",
      "Epoch: 2/200 | train loss: 0.0282 | test loss: 0.0132 | test accuracy: 0.9977\n",
      "Epoch: 3/200 | train loss: 0.0276 | test loss: 0.0123 | test accuracy: 0.9980\n",
      "Epoch: 4/200 | train loss: 0.0230 | test loss: 0.0136 | test accuracy: 0.9982\n",
      "Epoch: 5/200 | train loss: 0.0234 | test loss: 0.0190 | test accuracy: 0.9983\n",
      "Epoch: 6/200 | train loss: 0.0266 | test loss: 0.0109 | test accuracy: 0.9984\n",
      "Epoch: 7/200 | train loss: 0.0235 | test loss: 0.0087 | test accuracy: 0.9985\n",
      "Epoch: 8/200 | train loss: 0.0267 | test loss: 0.0088 | test accuracy: 0.9985\n",
      "Epoch: 9/200 | train loss: 0.0209 | test loss: 0.0113 | test accuracy: 0.9985\n",
      "Epoch: 10/200 | train loss: 0.0265 | test loss: 0.0113 | test accuracy: 0.9986\n",
      "Epoch: 11/200 | train loss: 0.0206 | test loss: 0.0059 | test accuracy: 0.9986\n",
      "Epoch: 12/200 | train loss: 0.0263 | test loss: 0.0081 | test accuracy: 0.9986\n",
      "Epoch: 13/200 | train loss: 0.0239 | test loss: 0.0102 | test accuracy: 0.9986\n",
      "Epoch: 14/200 | train loss: 0.0199 | test loss: 0.0157 | test accuracy: 0.9986\n",
      "Epoch: 15/200 | train loss: 0.0198 | test loss: 0.0167 | test accuracy: 0.9986\n",
      "Epoch: 16/200 | train loss: 0.0216 | test loss: 0.0107 | test accuracy: 0.9986\n",
      "Epoch: 17/200 | train loss: 0.0263 | test loss: 0.0079 | test accuracy: 0.9986\n",
      "Epoch: 18/200 | train loss: 0.0189 | test loss: 0.0093 | test accuracy: 0.9986\n",
      "Epoch: 19/200 | train loss: 0.0243 | test loss: 0.0074 | test accuracy: 0.9986\n",
      "Epoch: 20/200 | train loss: 0.0244 | test loss: 0.0087 | test accuracy: 0.9986\n",
      "Epoch: 21/200 | train loss: 0.0256 | test loss: 0.0102 | test accuracy: 0.9986\n",
      "Epoch: 22/200 | train loss: 0.0195 | test loss: 0.0145 | test accuracy: 0.9986\n",
      "Epoch: 23/200 | train loss: 0.0193 | test loss: 0.0153 | test accuracy: 0.9986\n",
      "Epoch: 24/200 | train loss: 0.0211 | test loss: 0.0135 | test accuracy: 0.9986\n",
      "Epoch: 25/200 | train loss: 0.0232 | test loss: 0.0108 | test accuracy: 0.9986\n",
      "Epoch: 26/200 | train loss: 0.0232 | test loss: 0.0080 | test accuracy: 0.9986\n",
      "Epoch: 27/200 | train loss: 0.0210 | test loss: 0.0101 | test accuracy: 0.9986\n",
      "Epoch: 28/200 | train loss: 0.0272 | test loss: 0.0077 | test accuracy: 0.9986\n",
      "Epoch: 29/200 | train loss: 0.0183 | test loss: 0.0142 | test accuracy: 0.9986\n",
      "Epoch: 30/200 | train loss: 0.0218 | test loss: 0.0054 | test accuracy: 0.9986\n",
      "Epoch: 31/200 | train loss: 0.0174 | test loss: 0.0091 | test accuracy: 0.9986\n",
      "Epoch: 32/200 | train loss: 0.0230 | test loss: 0.0118 | test accuracy: 0.9986\n",
      "Epoch: 33/200 | train loss: 0.0275 | test loss: 0.0089 | test accuracy: 0.9986\n",
      "Epoch: 34/200 | train loss: 0.0223 | test loss: 0.0084 | test accuracy: 0.9986\n",
      "Epoch: 35/200 | train loss: 0.0239 | test loss: 0.0075 | test accuracy: 0.9986\n",
      "Epoch: 36/200 | train loss: 0.0210 | test loss: 0.0118 | test accuracy: 0.9986\n",
      "Epoch: 37/200 | train loss: 0.0271 | test loss: 0.0100 | test accuracy: 0.9986\n",
      "Epoch: 38/200 | train loss: 0.0181 | test loss: 0.0148 | test accuracy: 0.9986\n",
      "Epoch: 39/200 | train loss: 0.0257 | test loss: 0.0078 | test accuracy: 0.9986\n",
      "Epoch: 40/200 | train loss: 0.0199 | test loss: 0.0116 | test accuracy: 0.9986\n",
      "Epoch: 41/200 | train loss: 0.0222 | test loss: 0.0057 | test accuracy: 0.9986\n",
      "Epoch: 42/200 | train loss: 0.0180 | test loss: 0.0114 | test accuracy: 0.9986\n",
      "Epoch: 43/200 | train loss: 0.0207 | test loss: 0.0090 | test accuracy: 0.9986\n",
      "Epoch: 44/200 | train loss: 0.0238 | test loss: 0.0095 | test accuracy: 0.9986\n",
      "Epoch: 45/200 | train loss: 0.0232 | test loss: 0.0144 | test accuracy: 0.9986\n",
      "Epoch: 46/200 | train loss: 0.0208 | test loss: 0.0066 | test accuracy: 0.9986\n",
      "Epoch: 47/200 | train loss: 0.0186 | test loss: 0.0108 | test accuracy: 0.9986\n",
      "Epoch: 48/200 | train loss: 0.0194 | test loss: 0.0108 | test accuracy: 0.9986\n",
      "Epoch: 49/200 | train loss: 0.0236 | test loss: 0.0077 | test accuracy: 0.9986\n",
      "Epoch: 50/200 | train loss: 0.0198 | test loss: 0.0089 | test accuracy: 0.9986\n",
      "Epoch: 51/200 | train loss: 0.0252 | test loss: 0.0053 | test accuracy: 0.9986\n",
      "Epoch: 52/200 | train loss: 0.0236 | test loss: 0.0097 | test accuracy: 0.9986\n",
      "Epoch: 53/200 | train loss: 0.0205 | test loss: 0.0069 | test accuracy: 0.9986\n",
      "Epoch: 54/200 | train loss: 0.0232 | test loss: 0.0110 | test accuracy: 0.9986\n",
      "Epoch: 55/200 | train loss: 0.0268 | test loss: 0.0110 | test accuracy: 0.9986\n",
      "Epoch: 56/200 | train loss: 0.0200 | test loss: 0.0171 | test accuracy: 0.9986\n",
      "Epoch: 57/200 | train loss: 0.0183 | test loss: 0.0139 | test accuracy: 0.9986\n",
      "Epoch: 58/200 | train loss: 0.0260 | test loss: 0.0071 | test accuracy: 0.9986\n",
      "Epoch: 59/200 | train loss: 0.0216 | test loss: 0.0067 | test accuracy: 0.9986\n",
      "Epoch: 60/200 | train loss: 0.0208 | test loss: 0.0074 | test accuracy: 0.9986\n",
      "Epoch: 61/200 | train loss: 0.0213 | test loss: 0.0080 | test accuracy: 0.9986\n",
      "Epoch: 62/200 | train loss: 0.0267 | test loss: 0.0136 | test accuracy: 0.9986\n",
      "Epoch: 63/200 | train loss: 0.0229 | test loss: 0.0124 | test accuracy: 0.9986\n",
      "Epoch: 64/200 | train loss: 0.0223 | test loss: 0.0149 | test accuracy: 0.9986\n",
      "Epoch: 65/200 | train loss: 0.0206 | test loss: 0.0106 | test accuracy: 0.9986\n",
      "Epoch: 66/200 | train loss: 0.0253 | test loss: 0.0095 | test accuracy: 0.9986\n",
      "Epoch: 67/200 | train loss: 0.0214 | test loss: 0.0107 | test accuracy: 0.9986\n",
      "Epoch: 68/200 | train loss: 0.0201 | test loss: 0.0123 | test accuracy: 0.9986\n",
      "Epoch: 69/200 | train loss: 0.0256 | test loss: 0.0181 | test accuracy: 0.9986\n",
      "Epoch: 70/200 | train loss: 0.0205 | test loss: 0.0074 | test accuracy: 0.9986\n",
      "Epoch: 71/200 | train loss: 0.0188 | test loss: 0.0053 | test accuracy: 0.9986\n",
      "Epoch: 72/200 | train loss: 0.0233 | test loss: 0.0098 | test accuracy: 0.9986\n",
      "Epoch: 73/200 | train loss: 0.0166 | test loss: 0.0061 | test accuracy: 0.9986\n",
      "Epoch: 74/200 | train loss: 0.0197 | test loss: 0.0124 | test accuracy: 0.9986\n",
      "Epoch: 75/200 | train loss: 0.0208 | test loss: 0.0055 | test accuracy: 0.9986\n",
      "Epoch: 76/200 | train loss: 0.0189 | test loss: 0.0131 | test accuracy: 0.9986\n",
      "Epoch: 77/200 | train loss: 0.0206 | test loss: 0.0126 | test accuracy: 0.9986\n",
      "Epoch: 78/200 | train loss: 0.0218 | test loss: 0.0121 | test accuracy: 0.9986\n",
      "Epoch: 79/200 | train loss: 0.0258 | test loss: 0.0160 | test accuracy: 0.9986\n",
      "Epoch: 80/200 | train loss: 0.0210 | test loss: 0.0068 | test accuracy: 0.9986\n",
      "Epoch: 81/200 | train loss: 0.0197 | test loss: 0.0124 | test accuracy: 0.9986\n",
      "Epoch: 82/200 | train loss: 0.0191 | test loss: 0.0145 | test accuracy: 0.9986\n",
      "Epoch: 83/200 | train loss: 0.0246 | test loss: 0.0161 | test accuracy: 0.9986\n",
      "Epoch: 84/200 | train loss: 0.0215 | test loss: 0.0073 | test accuracy: 0.9986\n",
      "Epoch: 85/200 | train loss: 0.0225 | test loss: 0.0106 | test accuracy: 0.9986\n",
      "Epoch: 86/200 | train loss: 0.0235 | test loss: 0.0057 | test accuracy: 0.9986\n",
      "Epoch: 87/200 | train loss: 0.0200 | test loss: 0.0207 | test accuracy: 0.9986\n",
      "Epoch: 88/200 | train loss: 0.0201 | test loss: 0.0137 | test accuracy: 0.9986\n",
      "Epoch: 89/200 | train loss: 0.0253 | test loss: 0.0148 | test accuracy: 0.9986\n",
      "Epoch: 90/200 | train loss: 0.0247 | test loss: 0.0088 | test accuracy: 0.9986\n",
      "Epoch: 91/200 | train loss: 0.0201 | test loss: 0.0132 | test accuracy: 0.9986\n",
      "Epoch: 92/200 | train loss: 0.0229 | test loss: 0.0172 | test accuracy: 0.9986\n",
      "Epoch: 93/200 | train loss: 0.0250 | test loss: 0.0160 | test accuracy: 0.9986\n",
      "Epoch: 94/200 | train loss: 0.0243 | test loss: 0.0071 | test accuracy: 0.9986\n",
      "Epoch: 95/200 | train loss: 0.0195 | test loss: 0.0116 | test accuracy: 0.9986\n",
      "Epoch: 96/200 | train loss: 0.0193 | test loss: 0.0063 | test accuracy: 0.9986\n",
      "Epoch: 97/200 | train loss: 0.0257 | test loss: 0.0149 | test accuracy: 0.9986\n",
      "Epoch: 98/200 | train loss: 0.0232 | test loss: 0.0096 | test accuracy: 0.9986\n",
      "Epoch: 99/200 | train loss: 0.0219 | test loss: 0.0074 | test accuracy: 0.9986\n",
      "Epoch: 100/200 | train loss: 0.0179 | test loss: 0.0125 | test accuracy: 0.9986\n",
      "Epoch: 101/200 | train loss: 0.0225 | test loss: 0.0055 | test accuracy: 0.9986\n",
      "Epoch: 102/200 | train loss: 0.0198 | test loss: 0.0055 | test accuracy: 0.9986\n",
      "Epoch: 103/200 | train loss: 0.0200 | test loss: 0.0130 | test accuracy: 0.9986\n",
      "Epoch: 104/200 | train loss: 0.0190 | test loss: 0.0167 | test accuracy: 0.9986\n",
      "Epoch: 105/200 | train loss: 0.0234 | test loss: 0.0104 | test accuracy: 0.9986\n",
      "Epoch: 106/200 | train loss: 0.0190 | test loss: 0.0057 | test accuracy: 0.9986\n",
      "Epoch: 107/200 | train loss: 0.0202 | test loss: 0.0111 | test accuracy: 0.9986\n",
      "Epoch: 108/200 | train loss: 0.0207 | test loss: 0.0109 | test accuracy: 0.9986\n",
      "Epoch: 109/200 | train loss: 0.0181 | test loss: 0.0162 | test accuracy: 0.9986\n",
      "Epoch: 110/200 | train loss: 0.0265 | test loss: 0.0092 | test accuracy: 0.9986\n",
      "Epoch: 111/200 | train loss: 0.0219 | test loss: 0.0111 | test accuracy: 0.9986\n",
      "Epoch: 112/200 | train loss: 0.0258 | test loss: 0.0240 | test accuracy: 0.9986\n",
      "Epoch: 113/200 | train loss: 0.0245 | test loss: 0.0076 | test accuracy: 0.9986\n",
      "Epoch: 114/200 | train loss: 0.0229 | test loss: 0.0068 | test accuracy: 0.9986\n",
      "Epoch: 115/200 | train loss: 0.0294 | test loss: 0.0150 | test accuracy: 0.9986\n",
      "Epoch: 116/200 | train loss: 0.0263 | test loss: 0.0172 | test accuracy: 0.9986\n",
      "Epoch: 117/200 | train loss: 0.0230 | test loss: 0.0093 | test accuracy: 0.9986\n",
      "Epoch: 118/200 | train loss: 0.0202 | test loss: 0.0072 | test accuracy: 0.9986\n",
      "Epoch: 119/200 | train loss: 0.0194 | test loss: 0.0109 | test accuracy: 0.9986\n",
      "Epoch: 120/200 | train loss: 0.0231 | test loss: 0.0083 | test accuracy: 0.9986\n",
      "Epoch: 121/200 | train loss: 0.0208 | test loss: 0.0107 | test accuracy: 0.9986\n",
      "Epoch: 122/200 | train loss: 0.0185 | test loss: 0.0086 | test accuracy: 0.9986\n",
      "Epoch: 123/200 | train loss: 0.0210 | test loss: 0.0095 | test accuracy: 0.9986\n",
      "Epoch: 124/200 | train loss: 0.0241 | test loss: 0.0146 | test accuracy: 0.9986\n",
      "Epoch: 125/200 | train loss: 0.0251 | test loss: 0.0163 | test accuracy: 0.9986\n",
      "Epoch: 126/200 | train loss: 0.0220 | test loss: 0.0101 | test accuracy: 0.9986\n",
      "Epoch: 127/200 | train loss: 0.0233 | test loss: 0.0052 | test accuracy: 0.9986\n",
      "Epoch: 128/200 | train loss: 0.0252 | test loss: 0.0098 | test accuracy: 0.9986\n",
      "Epoch: 129/200 | train loss: 0.0223 | test loss: 0.0114 | test accuracy: 0.9986\n",
      "Epoch: 130/200 | train loss: 0.0244 | test loss: 0.0106 | test accuracy: 0.9986\n",
      "Epoch: 131/200 | train loss: 0.0207 | test loss: 0.0099 | test accuracy: 0.9986\n",
      "Epoch: 132/200 | train loss: 0.0307 | test loss: 0.0131 | test accuracy: 0.9986\n",
      "Epoch: 133/200 | train loss: 0.0257 | test loss: 0.0085 | test accuracy: 0.9986\n",
      "Epoch: 134/200 | train loss: 0.0198 | test loss: 0.0108 | test accuracy: 0.9986\n",
      "Epoch: 135/200 | train loss: 0.0273 | test loss: 0.0099 | test accuracy: 0.9986\n",
      "Epoch: 136/200 | train loss: 0.0212 | test loss: 0.0118 | test accuracy: 0.9986\n",
      "Epoch: 137/200 | train loss: 0.0207 | test loss: 0.0134 | test accuracy: 0.9986\n",
      "Epoch: 138/200 | train loss: 0.0193 | test loss: 0.0074 | test accuracy: 0.9986\n",
      "Epoch: 139/200 | train loss: 0.0205 | test loss: 0.0072 | test accuracy: 0.9986\n",
      "Epoch: 140/200 | train loss: 0.0199 | test loss: 0.0106 | test accuracy: 0.9986\n",
      "Epoch: 141/200 | train loss: 0.0226 | test loss: 0.0071 | test accuracy: 0.9986\n",
      "Epoch: 142/200 | train loss: 0.0263 | test loss: 0.0096 | test accuracy: 0.9986\n",
      "Epoch: 143/200 | train loss: 0.0230 | test loss: 0.0094 | test accuracy: 0.9986\n",
      "Epoch: 144/200 | train loss: 0.0189 | test loss: 0.0093 | test accuracy: 0.9986\n",
      "Epoch: 145/200 | train loss: 0.0310 | test loss: 0.0107 | test accuracy: 0.9986\n",
      "Epoch: 146/200 | train loss: 0.0254 | test loss: 0.0069 | test accuracy: 0.9986\n",
      "Epoch: 147/200 | train loss: 0.0185 | test loss: 0.0121 | test accuracy: 0.9986\n",
      "Epoch: 148/200 | train loss: 0.0232 | test loss: 0.0055 | test accuracy: 0.9986\n",
      "Epoch: 149/200 | train loss: 0.0239 | test loss: 0.0087 | test accuracy: 0.9986\n",
      "Epoch: 150/200 | train loss: 0.0269 | test loss: 0.0166 | test accuracy: 0.9986\n",
      "Epoch: 151/200 | train loss: 0.0218 | test loss: 0.0129 | test accuracy: 0.9986\n",
      "Epoch: 152/200 | train loss: 0.0223 | test loss: 0.0136 | test accuracy: 0.9986\n",
      "Epoch: 153/200 | train loss: 0.0198 | test loss: 0.0073 | test accuracy: 0.9986\n",
      "Epoch: 154/200 | train loss: 0.0203 | test loss: 0.0108 | test accuracy: 0.9986\n",
      "Epoch: 155/200 | train loss: 0.0250 | test loss: 0.0103 | test accuracy: 0.9986\n",
      "Epoch: 156/200 | train loss: 0.0216 | test loss: 0.0092 | test accuracy: 0.9986\n",
      "Epoch: 157/200 | train loss: 0.0232 | test loss: 0.0103 | test accuracy: 0.9986\n",
      "Epoch: 158/200 | train loss: 0.0216 | test loss: 0.0131 | test accuracy: 0.9986\n",
      "Epoch: 159/200 | train loss: 0.0199 | test loss: 0.0100 | test accuracy: 0.9986\n",
      "Epoch: 160/200 | train loss: 0.0221 | test loss: 0.0056 | test accuracy: 0.9986\n",
      "Epoch: 161/200 | train loss: 0.0220 | test loss: 0.0085 | test accuracy: 0.9986\n",
      "Epoch: 162/200 | train loss: 0.0206 | test loss: 0.0097 | test accuracy: 0.9986\n",
      "Epoch: 163/200 | train loss: 0.0236 | test loss: 0.0082 | test accuracy: 0.9986\n",
      "Epoch: 164/200 | train loss: 0.0207 | test loss: 0.0125 | test accuracy: 0.9986\n",
      "Epoch: 165/200 | train loss: 0.0242 | test loss: 0.0115 | test accuracy: 0.9986\n",
      "Epoch: 166/200 | train loss: 0.0219 | test loss: 0.0115 | test accuracy: 0.9986\n",
      "Epoch: 167/200 | train loss: 0.0225 | test loss: 0.0109 | test accuracy: 0.9986\n",
      "Epoch: 168/200 | train loss: 0.0184 | test loss: 0.0054 | test accuracy: 0.9986\n",
      "Epoch: 169/200 | train loss: 0.0205 | test loss: 0.0091 | test accuracy: 0.9986\n",
      "Epoch: 170/200 | train loss: 0.0196 | test loss: 0.0087 | test accuracy: 0.9986\n",
      "Epoch: 171/200 | train loss: 0.0212 | test loss: 0.0182 | test accuracy: 0.9986\n",
      "Epoch: 172/200 | train loss: 0.0209 | test loss: 0.0119 | test accuracy: 0.9986\n",
      "Epoch: 173/200 | train loss: 0.0213 | test loss: 0.0085 | test accuracy: 0.9986\n",
      "Epoch: 174/200 | train loss: 0.0241 | test loss: 0.0119 | test accuracy: 0.9986\n",
      "Epoch: 175/200 | train loss: 0.0184 | test loss: 0.0084 | test accuracy: 0.9986\n",
      "Epoch: 176/200 | train loss: 0.0226 | test loss: 0.0139 | test accuracy: 0.9986\n",
      "Epoch: 177/200 | train loss: 0.0172 | test loss: 0.0100 | test accuracy: 0.9986\n",
      "Epoch: 178/200 | train loss: 0.0248 | test loss: 0.0166 | test accuracy: 0.9986\n",
      "Epoch: 179/200 | train loss: 0.0212 | test loss: 0.0080 | test accuracy: 0.9986\n",
      "Epoch: 180/200 | train loss: 0.0197 | test loss: 0.0101 | test accuracy: 0.9986\n",
      "Epoch: 181/200 | train loss: 0.0195 | test loss: 0.0151 | test accuracy: 0.9986\n",
      "Epoch: 182/200 | train loss: 0.0236 | test loss: 0.0176 | test accuracy: 0.9986\n",
      "Epoch: 183/200 | train loss: 0.0193 | test loss: 0.0093 | test accuracy: 0.9986\n",
      "Epoch: 184/200 | train loss: 0.0232 | test loss: 0.0068 | test accuracy: 0.9986\n",
      "Epoch: 185/200 | train loss: 0.0212 | test loss: 0.0119 | test accuracy: 0.9986\n",
      "Epoch: 186/200 | train loss: 0.0234 | test loss: 0.0104 | test accuracy: 0.9986\n",
      "Epoch: 187/200 | train loss: 0.0234 | test loss: 0.0069 | test accuracy: 0.9986\n",
      "Epoch: 188/200 | train loss: 0.0223 | test loss: 0.0087 | test accuracy: 0.9986\n",
      "Epoch: 189/200 | train loss: 0.0227 | test loss: 0.0105 | test accuracy: 0.9986\n",
      "Epoch: 190/200 | train loss: 0.0227 | test loss: 0.0097 | test accuracy: 0.9986\n",
      "Epoch: 191/200 | train loss: 0.0220 | test loss: 0.0094 | test accuracy: 0.9986\n",
      "Epoch: 192/200 | train loss: 0.0214 | test loss: 0.0193 | test accuracy: 0.9986\n",
      "Epoch: 193/200 | train loss: 0.0210 | test loss: 0.0085 | test accuracy: 0.9986\n",
      "Epoch: 194/200 | train loss: 0.0221 | test loss: 0.0105 | test accuracy: 0.9986\n",
      "Epoch: 195/200 | train loss: 0.0235 | test loss: 0.0130 | test accuracy: 0.9986\n",
      "Epoch: 196/200 | train loss: 0.0219 | test loss: 0.0110 | test accuracy: 0.9986\n",
      "Epoch: 197/200 | train loss: 0.0227 | test loss: 0.0072 | test accuracy: 0.9986\n",
      "Epoch: 198/200 | train loss: 0.0197 | test loss: 0.0188 | test accuracy: 0.9986\n",
      "Epoch: 199/200 | train loss: 0.0235 | test loss: 0.0056 | test accuracy: 0.9986\n",
      "Epoch: 200/200 | train loss: 0.0173 | test loss: 0.0116 | test accuracy: 0.9986\n",
      "Training Finish\n"
     ]
    }
   ],
   "metadata": {
    "ExecuteTime": {
     "end_time": "2021-02-23T02:34:27.439073Z",
     "start_time": "2021-02-23T02:07:19.026425Z"
    },
    "code_folding": [],
    "execution": {
     "iopub.execute_input": "2021-07-01T06:51:17.794104Z",
     "iopub.status.busy": "2021-07-01T06:51:17.793624Z",
     "iopub.status.idle": "2021-07-01T13:13:08.906906Z",
     "shell.execute_reply": "2021-07-01T13:13:08.906371Z",
     "shell.execute_reply.started": "2021-07-01T06:51:17.794080Z"
    },
    "tags": []
   }
  },
  {
   "cell_type": "markdown",
   "source": [
    "# Train Result"
   ],
   "metadata": {}
  },
  {
   "cell_type": "code",
   "execution_count": 17,
   "source": [
    "fig = plt.figure(2, figsize=(12, 8))\r\n",
    "\r\n",
    "print(len(avg_train_losses))\r\n",
    "print(len(avg_test_losses))\r\n",
    "# print(len(test_accuracy))\r\n",
    "\r\n",
    "(l1,) = plt.plot(range(len(avg_train_losses)), avg_train_losses, c=\"r\", marker=\"o\", label=\"train_loss\")\r\n",
    "(l2,) = plt.plot(range(len(avg_test_losses)), avg_test_losses, c=\"b\", marker=\"x\", label=\"test_loss\")\r\n",
    "# (l3,) = plt.plot(range(len(test_accuracy)), test_accuracy, c=\"limegreen\", marker=\"^\", label=\"test_accuracy\")\r\n",
    "\r\n",
    "plt.legend(handles=[l1, l2], loc=\"best\", fontsize=18)"
   ],
   "outputs": [
    {
     "output_type": "stream",
     "name": "stdout",
     "text": [
      "200\n",
      "200\n"
     ]
    },
    {
     "output_type": "execute_result",
     "data": {
      "text/plain": [
       "<matplotlib.legend.Legend at 0x7fca6a03d3d0>"
      ]
     },
     "metadata": {},
     "execution_count": 17
    },
    {
     "output_type": "display_data",
     "data": {
      "image/png": "[encoded data removed]",
      "text/plain": [
       "<Figure size 864x576 with 1 Axes>"
      ]
     },
     "metadata": {
      "needs_background": "light"
     }
    }
   ],
   "metadata": {
    "ExecuteTime": {
     "end_time": "2021-02-23T02:39:12.177530Z",
     "start_time": "2021-02-23T02:39:12.085917Z"
    },
    "execution": {
     "iopub.execute_input": "2021-07-02T01:27:15.357999Z",
     "iopub.status.busy": "2021-07-02T01:27:15.357684Z",
     "iopub.status.idle": "2021-07-02T01:27:15.453871Z",
     "shell.execute_reply": "2021-07-02T01:27:15.453428Z",
     "shell.execute_reply.started": "2021-07-02T01:27:15.357973Z"
    },
    "tags": []
   }
  },
  {
   "cell_type": "code",
   "execution_count": 18,
   "source": [
    "torch.save(model.state_dict(), \"model.pt\")"
   ],
   "outputs": [],
   "metadata": {
    "ExecuteTime": {
     "end_time": "2021-02-23T02:39:27.895436Z",
     "start_time": "2021-02-23T02:39:27.874242Z"
    },
    "execution": {
     "iopub.execute_input": "2021-07-02T01:27:20.444017Z",
     "iopub.status.busy": "2021-07-02T01:27:20.443699Z",
     "iopub.status.idle": "2021-07-02T01:27:20.463612Z",
     "shell.execute_reply": "2021-07-02T01:27:20.463161Z",
     "shell.execute_reply.started": "2021-07-02T01:27:20.443992Z"
    },
    "tags": []
   }
  },
  {
   "cell_type": "code",
   "execution_count": 11,
   "source": [
    "model = RNN(DATA_FEATURE_NUM).to(device)\r\n",
    "model.load_state_dict(torch.load(\"model.pt\"))"
   ],
   "outputs": [],
   "metadata": {
    "ExecuteTime": {
     "end_time": "2021-01-17T16:44:36.136840Z",
     "start_time": "2021-01-17T16:44:36.121260Z"
    },
    "execution": {
     "iopub.execute_input": "2021-07-01T06:35:56.129283Z",
     "iopub.status.busy": "2021-07-01T06:35:56.128978Z",
     "iopub.status.idle": "2021-07-01T06:35:56.132201Z",
     "shell.execute_reply": "2021-07-01T06:35:56.131301Z",
     "shell.execute_reply.started": "2021-07-01T06:35:56.129259Z"
    },
    "tags": []
   }
  },
  {
   "cell_type": "markdown",
   "source": [
    "# Sliding Window Partition"
   ],
   "metadata": {}
  },
  {
   "cell_type": "code",
   "execution_count": 33,
   "source": [
    "import torch\r\n",
    "import numpy as np\r\n",
    "from torch.nn.utils.rnn import pack_padded_sequence\r\n",
    "\r\n",
    "\r\n",
    "def trajectory_partition(trajectory_arr, clip_length, mean, std):\r\n",
    "    \"\"\" partion trajectory into fragments \"\"\"\r\n",
    "\r\n",
    "    partition_data = []\r\n",
    "    for i in range(trajectory_arr.shape[0]):\r\n",
    "        if i + clip_length > trajectory_arr.shape[0]:\r\n",
    "            break\r\n",
    "        else:\r\n",
    "            partition_data.append(z_score_normalization(trajectory_arr[i : i + clip_length, :], mean, std))\r\n",
    "    return partition_data\r\n",
    "\r\n",
    "\r\n",
    "def trajectory_predict(\r\n",
    "    model, trajectory_data, clip_length, mean, std, capabilites=FETCH_CAPABILITY_INDEX, packed_sequence=True\r\n",
    "):\r\n",
    "    \"\"\" predict each fragement\"\"\"\r\n",
    "\r\n",
    "    capability_list = []\r\n",
    "    parition_data = trajectory_partition(np.array(trajectory_data), clip_length, mean, std)\r\n",
    "\r\n",
    "    for pred_x in parition_data:\r\n",
    "        pred_x = torch.FloatTensor(pred_x).to(device)\r\n",
    "        pred_x = torch.unsqueeze(pred_x, 0)\r\n",
    "        if packed_sequence:\r\n",
    "            pred_x = pack_padded_sequence(pred_x, torch.tensor([clip_length]), batch_first=True)\r\n",
    "        model = model.eval()\r\n",
    "        out = model(pred_x)\r\n",
    "        pm = torch.max(out, 1)[1].data.cpu().numpy()[0]\r\n",
    "        for k in capabilites:\r\n",
    "            if capabilites[k] == pm:\r\n",
    "                capability_list.append(k)\r\n",
    "                break\r\n",
    "\r\n",
    "    return capability_list\r\n",
    "\r\n",
    "\r\n",
    "def get_keys(d, value):\r\n",
    "    return [k for k, v in d.items() if v == value]\r\n",
    "\r\n",
    "\r\n",
    "def tranform_result(nn_out_list, clip_length, continuous_traj_list):\r\n",
    "    segment_res_list = []\r\n",
    "    for index, nn_out in enumerate(nn_out_list):\r\n",
    "\r\n",
    "        segment_res = []\r\n",
    "        for real_time_point in range(1, len(continuous_traj_list[index]) + 1):\r\n",
    "            count_dict = {\"move\": 0, \"pick_cube\": 0, \"transport\": 0, \"place_cube\": 0}\r\n",
    "            if real_time_point < clip_length:\r\n",
    "                res_fragment = nn_out[:real_time_point]\r\n",
    "            elif real_time_point >= clip_length and real_time_point + clip_length <= len(continuous_traj_list[index]):\r\n",
    "                res_fragment = nn_out[real_time_point - 200 : real_time_point]\r\n",
    "            elif real_time_point > len(continuous_traj_list[index]) - 200:\r\n",
    "                res_fragment = nn_out[real_time_point - 200 :]\r\n",
    "\r\n",
    "            for capability in res_fragment:\r\n",
    "                count_dict[capability] += 1\r\n",
    "\r\n",
    "            keys = get_keys(count_dict, max(count_dict.values()))\r\n",
    "            random_index = random.randint(1, len(keys)) - 1\r\n",
    "            statis_capability = keys[random_index - 1]\r\n",
    "\r\n",
    "            segment_res.append(statis_capability)\r\n",
    "\r\n",
    "        segment_res_list.append(segment_res)\r\n",
    "    return segment_res_list\r\n",
    "\r\n",
    "\r\n",
    "def generate_traj_from_dataset(traj_list, selected_traj_index):\r\n",
    "    #     selected_traj_index = np.random.choice(range(len(traj_list)), n_traj, replace=False).tolist()\r\n",
    "\r\n",
    "    print(\"selected_traj_index: \", selected_traj_index)\r\n",
    "\r\n",
    "    # -----------------------------\r\n",
    "    # generate parititioned trajectory\r\n",
    "    # -----------------------------\r\n",
    "    partitioned_traj_list = []\r\n",
    "\r\n",
    "    for i in selected_traj_index:\r\n",
    "        partitioned_traj_list.append(copy.deepcopy(traj_list[i]))\r\n",
    "\r\n",
    "    continuous_traj_list = []\r\n",
    "    for i in selected_traj_index:\r\n",
    "        _1_traj_dict = traj_list[i]\r\n",
    "        _list = []\r\n",
    "        _list.extend(_1_traj_dict[\"move\"])\r\n",
    "        _list.extend(_1_traj_dict[\"pick_cube\"])\r\n",
    "        _list.extend(_1_traj_dict[\"transport\"])\r\n",
    "        _list.extend(_1_traj_dict[\"place_cube\"])\r\n",
    "        continuous_traj_list.append(_list)\r\n",
    "\r\n",
    "    return continuous_traj_list, partitioned_traj_list"
   ],
   "outputs": [],
   "metadata": {
    "ExecuteTime": {
     "end_time": "2021-02-23T02:39:52.926731Z",
     "start_time": "2021-02-23T02:39:52.920043Z"
    },
    "execution": {
     "iopub.execute_input": "2021-07-02T02:12:23.753181Z",
     "iopub.status.busy": "2021-07-02T02:12:23.752736Z",
     "iopub.status.idle": "2021-07-02T02:12:23.765094Z",
     "shell.execute_reply": "2021-07-02T02:12:23.764670Z",
     "shell.execute_reply.started": "2021-07-02T02:12:23.753157Z"
    },
    "tags": []
   }
  },
  {
   "cell_type": "code",
   "execution_count": 37,
   "source": [
    "# -----------------------------\r\n",
    "# generate parititioned trajectory\r\n",
    "# -----------------------------\r\n",
    "selected_traj_index = np.random.choice(range(len(traj_list)), 5, replace=False).tolist()\r\n",
    "# selected_traj_index = [93, 60, 119, 94, 41]\r\n",
    "continuous_traj_list, partitioned_traj_list = generate_traj_from_dataset(traj_list, selected_traj_index)\r\n",
    "\r\n",
    "\r\n",
    "# CLIP_LEN = 200\r\n",
    "z_score_mean = np.load(\"segment_lstm_mean.npy\")\r\n",
    "z_score_std = np.load(\"segment_lstm_std.npy\")\r\n",
    "\r\n",
    "# 滑动窗口的预测\r\n",
    "nn_out_list = []\r\n",
    "for t_index, trace in enumerate(continuous_traj_list):\r\n",
    "    print(\"trajectory: \", t_index + 1, \"    trajectory_length: \", len(trace))\r\n",
    "    nn_out = trajectory_predict(\r\n",
    "        model=model, trajectory_data=trace, clip_length=CLIP_LEN, mean=z_score_mean, std=z_score_std, packed_sequence=False\r\n",
    "    )\r\n",
    "    nn_out_list.append(nn_out)\r\n",
    "\r\n",
    "\r\n",
    "# 将滑动窗口的预测结果转化为轨迹预测结果\r\n",
    "segment_res_list = tranform_result(nn_out_list, CLIP_LEN, continuous_traj_list)"
   ],
   "outputs": [
    {
     "output_type": "stream",
     "name": "stdout",
     "text": [
      "selected_traj_index:  [93, 60, 119, 94, 41]\n",
      "trajectory:  1     trajectory_length:  9522\n",
      "trajectory:  2     trajectory_length:  9672\n",
      "trajectory:  3     trajectory_length:  10394\n",
      "trajectory:  4     trajectory_length:  9660\n",
      "trajectory:  5     trajectory_length:  9575\n"
     ]
    }
   ],
   "metadata": {
    "execution": {
     "iopub.execute_input": "2021-07-02T02:25:04.823864Z",
     "iopub.status.busy": "2021-07-02T02:25:04.823508Z",
     "iopub.status.idle": "2021-07-02T02:31:13.355982Z",
     "shell.execute_reply": "2021-07-02T02:31:13.355480Z",
     "shell.execute_reply.started": "2021-07-02T02:25:04.823836Z"
    },
    "tags": []
   }
  },
  {
   "cell_type": "code",
   "execution_count": 38,
   "source": [
    "# print segmentation result\r\n",
    "\r\n",
    "motion_colors_map = dict(zip(FETCH_CAPABILITY_INDEX.keys(), [\"red\", \"darkorange\", \"blue\", \"limegreen\"]))\r\n",
    "print(motion_colors_map)\r\n",
    "for index, segment_res in enumerate(segment_res_list):\r\n",
    "\r\n",
    "    Y = [\"action sequence\"] * len(segment_res)\r\n",
    "    X = range(len(segment_res))\r\n",
    "    # 图像颜色\r\n",
    "    c_value = []\r\n",
    "    for motion in segment_res:\r\n",
    "        c_value.append(motion_colors_map[motion])\r\n",
    "\r\n",
    "    plt.figure(36, figsize=(15, 5))\r\n",
    "    plt.subplot(len(segment_res_list), 1, (1 + index))\r\n",
    "    plt.tight_layout()\r\n",
    "    #     plt.title(\"Predicted Sequence {}\".format(str(index + 1)))\r\n",
    "    #     plt.xlabel(\"time step\", fontsize=14)\r\n",
    "    #     plt.ylabel(\"motion primitive\", fontsize=14)\r\n",
    "    plt.scatter(x=X, y=Y, marker=\"|\", s=1000, c=c_value)\r\n",
    "\r\n",
    "    frame = plt.gca()\r\n",
    "    # y 轴不可见\r\n",
    "    frame.axes.get_yaxis().set_visible(False)"
   ],
   "outputs": [
    {
     "output_type": "stream",
     "name": "stdout",
     "text": [
      "{'move': 'red', 'pick_cube': 'darkorange', 'transport': 'blue', 'place_cube': 'limegreen'}\n"
     ]
    },
    {
     "output_type": "display_data",
     "data": {
      "image/png": "[encoded data removed]",
      "text/plain": [
       "<Figure size 1080x360 with 5 Axes>"
      ]
     },
     "metadata": {
      "needs_background": "light"
     }
    }
   ],
   "metadata": {
    "execution": {
     "iopub.execute_input": "2021-07-02T02:31:13.356890Z",
     "iopub.status.busy": "2021-07-02T02:31:13.356750Z",
     "iopub.status.idle": "2021-07-02T02:31:13.840316Z",
     "shell.execute_reply": "2021-07-02T02:31:13.839886Z",
     "shell.execute_reply.started": "2021-07-02T02:31:13.356878Z"
    },
    "tags": []
   }
  },
  {
   "cell_type": "code",
   "execution_count": 39,
   "source": [
    "data_utils._store_in_pickle(segment_res_list, \"segment_res.pkl\")\r\n",
    "plt.savefig(\"segment_res.png\")"
   ],
   "outputs": [
    {
     "output_type": "display_data",
     "data": {
      "text/plain": [
       "<Figure size 432x288 with 0 Axes>"
      ]
     },
     "metadata": {}
    }
   ],
   "metadata": {
    "execution": {
     "iopub.execute_input": "2021-07-02T02:35:11.722606Z",
     "iopub.status.busy": "2021-07-02T02:35:11.722314Z",
     "iopub.status.idle": "2021-07-02T02:35:11.734754Z",
     "shell.execute_reply": "2021-07-02T02:35:11.734325Z",
     "shell.execute_reply.started": "2021-07-02T02:35:11.722583Z"
    },
    "tags": []
   }
  },
  {
   "cell_type": "markdown",
   "source": [
    "# 对比预测结果"
   ],
   "metadata": {}
  },
  {
   "cell_type": "code",
   "execution_count": null,
   "source": [
    "# motion_colors_map = dict(zip(FETCH_CAPABILITY_BASE, [\"darkorange\", \"limegreen\", \"red\", \"blue\"]))\r\n",
    "# for index, (pred_motion, canonical_motion) in enumerate(zip(predict_res, partitioned_trajectory_list)):\r\n",
    "\r\n",
    "#     print(\"predict motions: window width: {} , total: {}\".format(CLIP_FRAGMENT_LEN, len(pred_motion)))\r\n",
    "\r\n",
    "#     # 图像颜色\r\n",
    "#     c_value = []\r\n",
    "#     for motion in pred_motion:\r\n",
    "#         c_value.append(motion_colors_map[motion])\r\n",
    "\r\n",
    "#     canonical_motion_color = []\r\n",
    "#     move_len = len(canonical_motion[\"move\"])\r\n",
    "#     canonical_motion_color.extend(zip([\"move\"] * move_len, [motion_colors_map[\"move\"]] * move_len))\r\n",
    "\r\n",
    "#     pick_len = len(canonical_motion[\"pick_cube\"])\r\n",
    "#     canonical_motion_color.extend(zip([\"pick_cube\"] * pick_len, [motion_colors_map[\"pick_cube\"]] * pick_len))\r\n",
    "\r\n",
    "#     transport_len = len(canonical_motion[\"transport\"])\r\n",
    "#     canonical_motion_color.extend(zip([\"transport\"] * transport_len, [motion_colors_map[\"transport\"]] * transport_len))\r\n",
    "\r\n",
    "#     place_len = len(canonical_motion[\"place_cube\"])\r\n",
    "#     canonical_motion_color.extend(zip([\"place_cube\"] * place_len, [motion_colors_map[\"place_cube\"]] * place_len))\r\n",
    "\r\n",
    "#     print(\r\n",
    "#         \"canonical motions: move: {}, pick_cube: {}, transport: {}, place_cube: {}, total: {}\".format(\r\n",
    "#             move_len, pick_len, transport_len, place_len, move_len + pick_len + transport_len + place_len\r\n",
    "#         )\r\n",
    "#     )\r\n",
    "#     print()\r\n",
    "\r\n",
    "#     plt.figure(36, figsize=(12, 20))\r\n",
    "#     plt.subplot(6, 2, (1 + index * 2))\r\n",
    "#     plt.tight_layout()\r\n",
    "#     plt.title(\"predicted trajectory {}\".format(str(index + 1)))\r\n",
    "#     plt.xlabel(\"time step\", fontsize=14)\r\n",
    "#     plt.ylabel(\"motion primitive\", fontsize=14)\r\n",
    "#     plt.scatter(x=range(len(pred_motion)), y=pred_motion, marker=\"|\", s=16, c=c_value)\r\n",
    "\r\n",
    "#     plt.subplot(6, 2, (2 + index * 2))\r\n",
    "#     plt.tight_layout()\r\n",
    "#     plt.title(\"canonical trajectory {}\".format(str(index + 1)))\r\n",
    "#     plt.xlabel(\"time step\", fontsize=14)\r\n",
    "#     plt.ylabel(\"motion primitive\", fontsize=14)\r\n",
    "#     plt.scatter(\r\n",
    "#         x=range(len(canonical_motion_color)),\r\n",
    "#         y=[m[0] for m in canonical_motion_color],\r\n",
    "#         marker=\"|\",\r\n",
    "#         s=16,\r\n",
    "#         c=[m[1] for m in canonical_motion_color],\r\n",
    "#     )\r\n",
    "\r\n",
    "#     plt.legend([ 'gripper', 'head', 'movebase', 'torso'], loc='best')\r\n",
    "#     plt.show()"
   ],
   "outputs": [],
   "metadata": {
    "ExecuteTime": {
     "end_time": "2021-02-23T02:42:28.325996Z",
     "start_time": "2021-02-23T02:42:27.759498Z"
    },
    "execution": {
     "iopub.execute_input": "2021-04-20T07:48:35.210044Z",
     "iopub.status.busy": "2021-04-20T07:48:35.209745Z",
     "iopub.status.idle": "2021-04-20T07:48:35.840227Z",
     "shell.execute_reply": "2021-04-20T07:48:35.839502Z",
     "shell.execute_reply.started": "2021-04-20T07:48:35.210022Z"
    },
    "tags": []
   }
  },
  {
   "cell_type": "code",
   "execution_count": null,
   "source": [
    "# test: pack_padded_sequence pad_packed_sequence pad_sequence\r\n",
    "\r\n",
    "# test_x = [torch.tensor([[1,2],[1,2],[1,2]]), torch.tensor([[3,4],[3,4]]), torch.tensor([[2,3]])]\r\n",
    "# test_lengths = [t.size()[0] for t in test_x]\r\n",
    "\r\n",
    "# padded_x = pad_sequence(test_x, batch_first=True, padding_value=0)\r\n",
    "# print('padded_x: ', type(padded_x), padded_x)\r\n",
    "\r\n",
    "# packed_padded_x = pack_padded_sequence(padded_x, test_lengths, batch_first=True)\r\n",
    "# print('packed_padded_x: ', packed_padded_x)\r\n",
    "# print('packed_padded_x.data.size(): ', packed_padded_x.data.size())\r\n",
    "\r\n",
    "# seq_unpacked, lens_unpacked = pad_packed_sequence(packed_padded_x, batch_first=True)\r\n",
    "# print('seq_unpacked: ', seq_unpacked)\r\n",
    "# print('lens_unpacked: ', lens_unpacked)"
   ],
   "outputs": [],
   "metadata": {
    "ExecuteTime": {
     "end_time": "2021-01-14T07:06:45.417942Z",
     "start_time": "2021-01-14T07:06:45.415464Z"
    },
    "execution": {
     "iopub.execute_input": "2021-06-17T07:10:05.740730Z",
     "iopub.status.busy": "2021-06-17T07:10:05.740608Z",
     "iopub.status.idle": "2021-06-17T07:10:05.742549Z",
     "shell.execute_reply": "2021-06-17T07:10:05.742204Z",
     "shell.execute_reply.started": "2021-06-17T07:10:05.740719Z"
    },
    "scrolled": true,
    "tags": []
   }
  }
 ],
 "metadata": {
  "interpreter": {
   "hash": "c5861410bb3cb80bf774287e0c8b034ebe9e321f052a122ecdb4536904b52da4"
  },
  "kernelspec": {
   "name": "python3",
   "display_name": "Python 3.9.6 64-bit ('dev': conda)"
  },
  "language_info": {
   "codemirror_mode": {
    "name": "ipython",
    "version": 3
   },
   "file_extension": ".py",
   "mimetype": "text/x-python",
   "name": "python",
   "nbconvert_exporter": "python",
   "pygments_lexer": "ipython3",
   "version": "3.9.6"
  },
  "metadata": {
   "interpreter": {
    "hash": "df0893f56f349688326838aaeea0de204df53a132722cbd565e54b24a8fec5f6"
   }
  },
  "notify_time": "5",
  "toc": {
   "base_numbering": 1,
   "nav_menu": {},
   "number_sections": true,
   "sideBar": true,
   "skip_h1_title": false,
   "title_cell": "Table of Contents",
   "title_sidebar": "Contents",
   "toc_cell": false,
   "toc_position": {},
   "toc_section_display": true,
   "toc_window_display": false
  },
  "toc-autonumbering": true,
  "toc-showcode": false,
  "toc-showmarkdowntxt": true,
  "toc-showtags": false
 },
 "nbformat": 4,
 "nbformat_minor": 4
}